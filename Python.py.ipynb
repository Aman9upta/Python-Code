{
 "cells": [
  {
   "cell_type": "code",
   "execution_count": null,
   "id": "7338c9fb-5ff7-4021-893d-1b2ffd3c65ae",
   "metadata": {},
   "outputs": [
    {
     "name": "stdout",
     "output_type": "stream",
     "text": [
      "Enter first number:  2\n",
      "Enter second number:  3\n",
      "Enter third number:  3\n"
     ]
    },
    {
     "name": "stdout",
     "output_type": "stream",
     "text": [
      "Largest number is: 3\n"
     ]
    }
   ],
   "source": [
    "# Write a program to find the largest of three numbers entered by the user.\n",
    "\n",
    "a=[int(input(\"Enter a number\")),int(input(\"Enter a number\")),int(input(\"Enter a number\"))]\n",
    "print(max(a))"
   ]
  },
  {
   "cell_type": "code",
   "execution_count": null,
   "id": "97bd7849-e2a8-4899-b70f-dca83f4941b9",
   "metadata": {},
   "outputs": [],
   "source": [
    "# Write a program to swap the values of three variables such that the first variable gets the value of the third.\n",
    "\n",
    "a, b, c= input(\"Enter value of a: \"), input(\"Enter value of b: \"), input(\"Enter value of c: \")\n",
    "a, b, c = c, a, b\n",
    "print(\"Swapped values -> a:\", a, \"b:\", b, \"c:\", c)"
   ]
  },
  {
   "cell_type": "code",
   "execution_count": 18,
   "id": "5b89e8a1-9af9-458d-af4d-bb6b0cb5c6b9",
   "metadata": {},
   "outputs": [
    {
     "name": "stdout",
     "output_type": "stream",
     "text": [
      "Enter a number:  2\n"
     ]
    },
    {
     "name": "stdout",
     "output_type": "stream",
     "text": [
      "The sum of the digits is: 2\n"
     ]
    }
   ],
   "source": [
    "# Write a program to input a number and calculate the sum of its digits.\n",
    "\n",
    "num = input(\"Enter a number: \")\n",
    "sum_digit = 0\n",
    "\n",
    "for digit in num:\n",
    "    if digit.isdigit():\n",
    "        sum_digit += int(digit)\n",
    "print(\"The sum of the digits is:\", sum_digit)"
   ]
  },
  {
   "cell_type": "code",
   "execution_count": null,
   "id": "d9c1d917-6770-46af-adfd-d2e75d89654c",
   "metadata": {},
   "outputs": [],
   "source": [
    "# Write a program to reverse the digits of a given number.\n",
    "\n",
    "n = int(input(\"Enter a number: \"))\n",
    "rev_n = int(a[::-1])\n",
    "print(\"Reversed number:\", rev_n)"
   ]
  },
  {
   "cell_type": "code",
   "execution_count": 20,
   "id": "c9c3f339-a5a3-468d-a5c2-02b601a7a4fa",
   "metadata": {},
   "outputs": [
    {
     "name": "stdout",
     "output_type": "stream",
     "text": [
      "Enter a number:  3\n"
     ]
    },
    {
     "name": "stdout",
     "output_type": "stream",
     "text": [
      "The number is Odd.\n"
     ]
    }
   ],
   "source": [
    "# Write a program to check whether a given number is even or odd.\n",
    "\n",
    "n = int(input(\"Enter a number: \"))\n",
    "if n % 2 == 0 :\n",
    "    print(\"The number is Even.\")\n",
    "else:\n",
    "    print(\"The number is Odd.\")"
   ]
  },
  {
   "cell_type": "code",
   "execution_count": null,
   "id": "03fc74fa-bcd9-4093-9de1-40756934a7ae",
   "metadata": {},
   "outputs": [],
   "source": [
    "# Write a program to check whether a given year is a leap year or not.\n",
    "\n",
    "year = int(input(\"Enter a year: \"))\n",
    "if (year % 4 == 0 and year % 100 != 0) or (year % 400 == 0):\n",
    "    print(\"Leap year\")\n",
    "else:\n",
    "    print(\"Not a leap year\")"
   ]
  },
  {
   "cell_type": "code",
   "execution_count": 22,
   "id": "726df00b-d427-4ca6-af5d-9abba0c3da3e",
   "metadata": {},
   "outputs": [
    {
     "name": "stdout",
     "output_type": "stream",
     "text": [
      "Enter x1:  2\n",
      "Enter x2:  3\n",
      "Enter y1:  2\n",
      "Enter y2:  3\n"
     ]
    },
    {
     "name": "stdout",
     "output_type": "stream",
     "text": [
      "1.4142135623730951\n"
     ]
    }
   ],
   "source": [
    "# Write a program to calculate the Euclidean distance between two points in 2D space.\n",
    "\n",
    "import math\n",
    "x=[int(input(\"Enter x1: \")),int(input(\"Enter x2: \"))]\n",
    "y=[int(input(\"Enter y1: \")),int(input(\"Enter y2: \"))]\n",
    "print(math.sqrt((x[1]-x[0])**2 + (y[1]-y[0])**2))"
   ]
  },
  {
   "cell_type": "code",
   "execution_count": null,
   "id": "5a0ed81c-a1c2-43d2-b4c4-a02df4a585fd",
   "metadata": {},
   "outputs": [],
   "source": [
    "# Write a program to check if three angles can form a valid triangle.\n",
    "\n",
    "a, b, c=int(input(\"enter side length\")), int(input(\"enter side length\")), int(input(\"enter side length\"))\n",
    "if (a+b)>c or (b+c)>a or (a+c)>b:\n",
    "    print(\"valid triangle\")\n",
    "else:\n",
    "    print(\"invalid triangle\")"
   ]
  },
  {
   "cell_type": "code",
   "execution_count": null,
   "id": "f8304515-699a-4d2c-b7f6-332b3ee0410b",
   "metadata": {},
   "outputs": [],
   "source": [
    "# Write a program to calculate profit or loss based on cost price and selling price.\n",
    "\n",
    "cp = float(input(\"Enter cost price: \"))\n",
    "sp = float(input(\"Enter selling price: \"))\n",
    "if sp > cp:\n",
    "    print(\"Profit:\", sp - cp)\n",
    "elif cp > sp:\n",
    "    print(\"Loss:\", cp - sp)\n",
    "else:\n",
    "    print(\"No profit no loss\")"
   ]
  },
  {
   "cell_type": "code",
   "execution_count": null,
   "id": "866961af-e5de-4656-9b17-c01ae2703fac",
   "metadata": {},
   "outputs": [],
   "source": [
    "# Write a program to calculate simple interest using the formula SI = (P × R × T) / 100.\n",
    "\n",
    "P = float(input(\"Principal: \"))\n",
    "R = float(input(\"Rate: \"))\n",
    "T = float(input(\"Time: \"))\n",
    "SI = (P * R * T) / 100\n",
    "print(\"Simple Interest:\", SI)"
   ]
  },
  {
   "cell_type": "code",
   "execution_count": null,
   "id": "0746f163-d669-4b02-b2cd-5a21e623d02b",
   "metadata": {},
   "outputs": [],
   "source": [
    "# Write a program to calculate the volume of a cylinder.\n",
    "\n",
    "import math as m\n",
    "r = float(input(\"Radius: \"))\n",
    "h = float(input(\"Height: \"))\n",
    "volume = m.pi * r**2 * h\n",
    "print(\"Volume of Cylinder:\", volume)"
   ]
  },
  {
   "cell_type": "code",
   "execution_count": null,
   "id": "b5759ddc-c8ae-4598-9202-6bec5cff12da",
   "metadata": {},
   "outputs": [],
   "source": [
    "# Write a program to check whether a given number is divisible by both 3 and 6.\n",
    "\n",
    "n = int(input(\"Enter a number: \"))\n",
    "if n % 3 == 0 and n % 6 == 0:\n",
    "    print(\"Divisible by both 3 and 6\")\n",
    "else:\n",
    "    print(\"Not divisible by both 3 and 6\")"
   ]
  },
  {
   "cell_type": "code",
   "execution_count": null,
   "id": "92576260-a121-426e-9dd2-35353a8e87b5",
   "metadata": {},
   "outputs": [],
   "source": [
    "# Write a program that takes temperature and humidity as input from the user and checks if values are provided.\n",
    "\n",
    "temp = input(\"Enter temperature: \")\n",
    "humidity = input(\"Enter humidity: \")\n",
    "if temp and humidity:\n",
    "    print(\"Temperature:\", temp, \"Humidity:\", humidity)\n",
    "else:\n",
    "    print(\"Temperature or Humidity not provided\")"
   ]
  },
  {
   "cell_type": "code",
   "execution_count": 27,
   "id": "9d64db31-8f9c-4ec9-ae69-08edbbf97a20",
   "metadata": {},
   "outputs": [
    {
     "name": "stdout",
     "output_type": "stream",
     "text": [
      "Enter first digit:  2\n",
      "Enter second digit: 3\n",
      "Enter third digit: 2\n"
     ]
    },
    {
     "name": "stdout",
     "output_type": "stream",
     "text": [
      "17\n"
     ]
    }
   ],
   "source": [
    "# Write a program that takes three digits from the user and adds the square of each digit.\n",
    "\n",
    "a, b, c = int(input(\"Enter first digit: \")), int(input(\"Enter second digit:\")), int(input(\"Enter third digit:\"))\n",
    "print(a**2 + b**2 + c**2)"
   ]
  },
  {
   "cell_type": "code",
   "execution_count": null,
   "id": "aa608ea5-57ea-431b-aa97-1d810b7939ee",
   "metadata": {},
   "outputs": [],
   "source": [
    "# Write a program that checks whether a given number is an Armstrong number or not.\n",
    "\n",
    "num = int(input(\"Enter a number: \"))\n",
    "order = len(str(num))\n",
    "sum_of_powers = sum(int(d)**order for d in str(num))\n",
    "print(\"Armstrong Number\" if sum_of_powers == num else \"Not Armstrong\")"
   ]
  },
  {
   "cell_type": "code",
   "execution_count": null,
   "id": "69646436-ab7a-49f9-93ee-c41dcacf6987",
   "metadata": {},
   "outputs": [],
   "source": [
    "# Write a program that takes a 4-digit number from the user and checks whether it is a narcissist number or not.\n",
    "\n",
    "num = input(\"Enter a 4-digit number: \")\n",
    "if len(num) == 4 and num.isdigit():\n",
    "    total = sum(int(d)**4 for d in num)\n",
    "    print(\"Narcissistic Number\" if int(num) == total else \"Not Narcissistic\")\n",
    "else:\n",
    "    print(\"Invalid input\")"
   ]
  },
  {
   "cell_type": "code",
   "execution_count": null,
   "id": "6a38406f-6d5c-4a99-bb05-eb8ce3e5e73c",
   "metadata": {},
   "outputs": [],
   "source": [
    "''' Write a program that calculates the in-hand salary after deducting HRA (10%), DA (5%), PF (3%), and tax based on the following:\n",
    "    a. Salary between 5–10 lakh: 10% tax\n",
    "    b. Salary between 11–20 lakh: 20% tax\n",
    "    c. Salary above 20 lakh: 30% tax\n",
    "    d. Salary between 0–1 lakh: print 'k'\n",
    "'''\n",
    "\n",
    "salary = float(input(\"Enter gross salary (in lakhs): \")) * 100000\n",
    "hra = 0.10 * salary\n",
    "da = 0.05 * salary\n",
    "pf = 0.03 * salary\n",
    "tax = 0\n",
    "\n",
    "if 5_00_000 <= salary <= 10_00_000:\n",
    "    tax = 0.10 * salary\n",
    "elif 11_00_000 <= salary <= 20_00_000:\n",
    "    tax = 0.20 * salary\n",
    "elif salary > 20_00_000:\n",
    "    tax = 0.30 * salary\n",
    "elif salary <= 1_00_000:\n",
    "    print(\"k\")\n",
    "\n",
    "in_hand = salary - (hra + da + pf + tax)\n",
    "print(\"In-hand salary:\", in_hand / 100000, \"lakh\")"
   ]
  },
  {
   "cell_type": "code",
   "execution_count": 6,
   "id": "4e95f44f-df9e-489d-9ed2-e083799d680e",
   "metadata": {},
   "outputs": [
    {
     "name": "stdout",
     "output_type": "stream",
     "text": [
      "\n",
      "1. cm to inches\n",
      "2. km to miles\n",
      "3. USD to INR\n",
      "4. Exit\n"
     ]
    },
    {
     "name": "stdout",
     "output_type": "stream",
     "text": [
      "Enter choice:  2\n",
      "Enter km:  5\n"
     ]
    },
    {
     "name": "stdout",
     "output_type": "stream",
     "text": [
      "Miles: 3.106855\n",
      "\n",
      "1. cm to inches\n",
      "2. km to miles\n",
      "3. USD to INR\n",
      "4. Exit\n"
     ]
    },
    {
     "name": "stdout",
     "output_type": "stream",
     "text": [
      "Enter choice:  4\n"
     ]
    }
   ],
   "source": [
    "''' Write a menu-driven program with the following options:\n",
    "    a. Convert cm to inches\n",
    "    b. Convert km to miles\n",
    "    c. Convert USD to INR\n",
    "    d. Exit\n",
    "'''\n",
    "\n",
    "while True:\n",
    "    print(\"\\n1. cm to inches\\n2. km to miles\\n3. USD to INR\\n4. Exit\")\n",
    "    choice = int(input(\"Enter choice: \"))\n",
    "    if choice == 1:\n",
    "        cm = float(input(\"Enter cm: \"))\n",
    "        print(\"Inches:\", cm / 2.54)\n",
    "    elif choice == 2:\n",
    "        km = float(input(\"Enter km: \"))\n",
    "        print(\"Miles:\", km * 0.621371)\n",
    "    elif choice == 3:\n",
    "        usd = float(input(\"Enter USD: \"))\n",
    "        print(\"INR:\", usd * 83.5)  # Assume rate\n",
    "    elif choice == 4:\n",
    "        break\n",
    "    else:\n",
    "        print(\"Invalid choice\")"
   ]
  },
  {
   "cell_type": "code",
   "execution_count": 4,
   "id": "4e27060e-53db-4833-9a9a-e57085310b7d",
   "metadata": {},
   "outputs": [
    {
     "name": "stdout",
     "output_type": "stream",
     "text": [
      "Enter a:  2\n",
      "Enter b:  3\n"
     ]
    },
    {
     "name": "stdout",
     "output_type": "stream",
     "text": [
      "After swap -> a: 3 b: 2\n"
     ]
    }
   ],
   "source": [
    "# Write a program to swap two numbers using a temporary variable.\n",
    "\n",
    "a = int(input(\"Enter a: \"))\n",
    "b = int(input(\"Enter b: \"))\n",
    "temp = a\n",
    "a = b\n",
    "b = temp\n",
    "print(\"After swap -> a:\", a, \"b:\", b)"
   ]
  },
  {
   "cell_type": "code",
   "execution_count": 3,
   "id": "ee928084-a2f8-41c8-aba2-b7718d6ad18d",
   "metadata": {},
   "outputs": [
    {
     "name": "stdout",
     "output_type": "stream",
     "text": [
      "Enter a:  2\n",
      "Enter b:  3\n"
     ]
    },
    {
     "name": "stdout",
     "output_type": "stream",
     "text": [
      "After swap -> a: 3 b: 2\n"
     ]
    }
   ],
   "source": [
    "# Write a program to swap two numbers without using a temporary variable.\n",
    "\n",
    "a = int(input(\"Enter a: \"))\n",
    "b = int(input(\"Enter b: \"))\n",
    "a, b = b, a\n",
    "print(\"After swap -> a:\", a, \"b:\", b)"
   ]
  }
 ],
 "metadata": {
  "kernelspec": {
   "display_name": "Python [conda env:base] *",
   "language": "python",
   "name": "conda-base-py"
  },
  "language_info": {
   "codemirror_mode": {
    "name": "ipython",
    "version": 3
   },
   "file_extension": ".py",
   "mimetype": "text/x-python",
   "name": "python",
   "nbconvert_exporter": "python",
   "pygments_lexer": "ipython3",
   "version": "3.13.5"
  }
 },
 "nbformat": 4,
 "nbformat_minor": 5
}
